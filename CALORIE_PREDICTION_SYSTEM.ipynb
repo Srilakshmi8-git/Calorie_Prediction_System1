{
  "nbformat": 4,
  "nbformat_minor": 0,
  "metadata": {
    "colab": {
      "provenance": [],
      "authorship_tag": "ABX9TyPFsSvqc2nFoqQMGCWk5n6W",
      "include_colab_link": true
    },
    "kernelspec": {
      "name": "python3",
      "display_name": "Python 3"
    },
    "language_info": {
      "name": "python"
    }
  },
  "cells": [
    {
      "cell_type": "markdown",
      "metadata": {
        "id": "view-in-github",
        "colab_type": "text"
      },
      "source": [
        "<a href=\"https://colab.research.google.com/github/Srilakshmi8-git/Calorie_Prediction_System1/blob/main/CALORIE_PREDICTION_SYSTEM.ipynb\" target=\"_parent\"><img src=\"https://colab.research.google.com/assets/colab-badge.svg\" alt=\"Open In Colab\"/></a>"
      ]
    },
    {
      "cell_type": "code",
      "execution_count": 7,
      "metadata": {
        "colab": {
          "base_uri": "https://localhost:8080/"
        },
        "id": "wfU-UaEBvGsa",
        "outputId": "9d7134e3-83b5-428a-9f1f-0d05dc9b2299"
      },
      "outputs": [
        {
          "output_type": "stream",
          "name": "stdout",
          "text": [
            "🚀 Starting dataset split...\n"
          ]
        },
        {
          "output_type": "stream",
          "name": "stderr",
          "text": [
            "📦 Copying train images: 100%|██████████| 75750/75750 [00:04<00:00, 18573.92it/s]\n",
            "📦 Copying test images: 100%|██████████| 25250/25250 [00:01<00:00, 24449.37it/s]\n"
          ]
        },
        {
          "output_type": "stream",
          "name": "stdout",
          "text": [
            "✅ Done splitting dataset!\n"
          ]
        }
      ],
      "source": [
        "import os\n",
        "import shutil\n",
        "from tqdm import tqdm\n",
        "from concurrent.futures import ThreadPoolExecutor\n",
        "\n",
        "# === CONFIG ===\n",
        "BASE_PATH = \"/content/drive/MyDrive/Calorie_prediction_system\"\n",
        "IMAGE_DIR = os.path.join(BASE_PATH, \"dataset/images\")\n",
        "META_DIR = os.path.join(BASE_PATH, \"meta\")\n",
        "OUTPUT_DIR = os.path.join(BASE_PATH, \"dataset\")\n",
        "\n",
        "TRAIN_FILE = \"/content/drive/MyDrive/Calorie_prediction_system/dataset/meta/train.txt\"\n",
        "TEST_FILE = \"/content/drive/MyDrive/Calorie_prediction_system/dataset/meta/test.txt\"\n",
        "\n",
        "\n",
        "# === Function to read .txt file and return list of image paths ===\n",
        "def read_image_list(txt_file):\n",
        "    with open(txt_file, \"r\") as f:\n",
        "        lines = f.read().strip().splitlines()\n",
        "    return lines\n",
        "\n",
        "# === Function to copy one image to target location ===\n",
        "def copy_image(relative_path, split_type):\n",
        "    src = os.path.join(IMAGE_DIR, relative_path + \".jpg\")\n",
        "    dst = os.path.join(OUTPUT_DIR, split_type, relative_path + \".jpg\")\n",
        "\n",
        "    os.makedirs(os.path.dirname(dst), exist_ok=True)\n",
        "\n",
        "    if os.path.exists(src):\n",
        "        shutil.copy2(src, dst)\n",
        "\n",
        "# === Main Execution ===\n",
        "def split_dataset():\n",
        "    print(\"🚀 Starting dataset split...\")\n",
        "\n",
        "    train_list = read_image_list(TRAIN_FILE)\n",
        "    test_list = read_image_list(TEST_FILE)\n",
        "\n",
        "    all_tasks = []\n",
        "\n",
        "    # Use multithreading for speed\n",
        "    with ThreadPoolExecutor(max_workers=16) as executor:\n",
        "        for img in tqdm(train_list, desc=\"📦 Copying train images\"):\n",
        "            all_tasks.append(executor.submit(copy_image, img, \"train\"))\n",
        "\n",
        "        for img in tqdm(test_list, desc=\"📦 Copying test images\"):\n",
        "            all_tasks.append(executor.submit(copy_image, img, \"test\"))\n",
        "\n",
        "    print(\"✅ Done splitting dataset!\")\n",
        "\n",
        "split_dataset()\n"
      ]
    },
    {
      "cell_type": "code",
      "source": [
        "import shutil\n",
        "import os\n",
        "\n",
        "# WARNING: This will delete everything inside those folders\n",
        "shutil.rmtree(os.path.join(OUTPUT_DIR, \"train\"), ignore_errors=True)\n",
        "shutil.rmtree(os.path.join(OUTPUT_DIR, \"test\"), ignore_errors=True)"
      ],
      "metadata": {
        "colab": {
          "base_uri": "https://localhost:8080/",
          "height": 193
        },
        "id": "Xhmw4dRLWzp3",
        "outputId": "49056a9c-a5b0-45c3-fce4-5f82b27c33b0"
      },
      "execution_count": 4,
      "outputs": [
        {
          "output_type": "error",
          "ename": "NameError",
          "evalue": "name 'OUTPUT_DIR' is not defined",
          "traceback": [
            "\u001b[0;31m---------------------------------------------------------------------------\u001b[0m",
            "\u001b[0;31mNameError\u001b[0m                                 Traceback (most recent call last)",
            "\u001b[0;32m/tmp/ipython-input-4-29831631.py\u001b[0m in \u001b[0;36m<cell line: 0>\u001b[0;34m()\u001b[0m\n\u001b[1;32m      3\u001b[0m \u001b[0;34m\u001b[0m\u001b[0m\n\u001b[1;32m      4\u001b[0m \u001b[0;31m# WARNING: This will delete everything inside those folders\u001b[0m\u001b[0;34m\u001b[0m\u001b[0;34m\u001b[0m\u001b[0m\n\u001b[0;32m----> 5\u001b[0;31m \u001b[0mshutil\u001b[0m\u001b[0;34m.\u001b[0m\u001b[0mrmtree\u001b[0m\u001b[0;34m(\u001b[0m\u001b[0mos\u001b[0m\u001b[0;34m.\u001b[0m\u001b[0mpath\u001b[0m\u001b[0;34m.\u001b[0m\u001b[0mjoin\u001b[0m\u001b[0;34m(\u001b[0m\u001b[0mOUTPUT_DIR\u001b[0m\u001b[0;34m,\u001b[0m \u001b[0;34m\"train\"\u001b[0m\u001b[0;34m)\u001b[0m\u001b[0;34m,\u001b[0m \u001b[0mignore_errors\u001b[0m\u001b[0;34m=\u001b[0m\u001b[0;32mTrue\u001b[0m\u001b[0;34m)\u001b[0m\u001b[0;34m\u001b[0m\u001b[0;34m\u001b[0m\u001b[0m\n\u001b[0m\u001b[1;32m      6\u001b[0m \u001b[0mshutil\u001b[0m\u001b[0;34m.\u001b[0m\u001b[0mrmtree\u001b[0m\u001b[0;34m(\u001b[0m\u001b[0mos\u001b[0m\u001b[0;34m.\u001b[0m\u001b[0mpath\u001b[0m\u001b[0;34m.\u001b[0m\u001b[0mjoin\u001b[0m\u001b[0;34m(\u001b[0m\u001b[0mOUTPUT_DIR\u001b[0m\u001b[0;34m,\u001b[0m \u001b[0;34m\"test\"\u001b[0m\u001b[0;34m)\u001b[0m\u001b[0;34m,\u001b[0m \u001b[0mignore_errors\u001b[0m\u001b[0;34m=\u001b[0m\u001b[0;32mTrue\u001b[0m\u001b[0;34m)\u001b[0m\u001b[0;34m\u001b[0m\u001b[0;34m\u001b[0m\u001b[0m\n",
            "\u001b[0;31mNameError\u001b[0m: name 'OUTPUT_DIR' is not defined"
          ]
        }
      ]
    }
  ]
}